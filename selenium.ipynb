{
 "cells": [
  {
   "cell_type": "code",
   "execution_count": 1,
   "metadata": {},
   "outputs": [
    {
     "name": "stdout",
     "output_type": "stream",
     "text": [
      "Selenium Element Locators\n",
      "Cover Letter Template\n"
     ]
    }
   ],
   "source": [
    "from selenium import webdriver\n",
    "from selenium.webdriver.chrome.options import Options\n",
    "from selenium.webdriver.common.by import By\n",
    "from selenium.webdriver.support.ui import WebDriverWait\n",
    "from selenium.webdriver.support import expected_conditions as EC\n",
    "\n",
    "option = Options()\n",
    "option.add_experimental_option(\"debuggerAddress\", \"localhost:9988\") \n",
    "driver = webdriver.Chrome(options=option)\n",
    "driver.get(\"https://chat.openai.com\")\n",
    "\n",
    "try:\n",
    "    wait = WebDriverWait(driver, 10)\n",
    "    chat_list = wait.until(EC.presence_of_element_located((By.XPATH, \"//*[@id='__next']/div[1]/div[1]/div/div/div/nav/div[2]/div[3]/div/div/ol\")))\n",
    "\n",
    "    chat_elements = driver.find_elements(By.XPATH, \"//*[@id='__next']/div[1]/div[1]/div/div/div/nav/div[2]/div[3]/div/div/ol/li/div/a\")\n",
    "\n",
    "    for chat in chat_elements:\n",
    "        print(chat.text)\n",
    "\n",
    "finally:\n",
    "    driver.quit()\n"
   ]
  },
  {
   "cell_type": "code",
   "execution_count": 2,
   "metadata": {},
   "outputs": [
    {
     "name": "stdout",
     "output_type": "stream",
     "text": [
      "Files extracted to: ./extracted_files\n"
     ]
    }
   ],
   "source": [
    "import zipfile\n",
    "import os\n",
    "\n",
    "def extract_zip_file(zip_file_path, extract_to_folder):\n",
    "    if not os.path.exists(extract_to_folder):\n",
    "        os.makedirs(extract_to_folder)\n",
    "    with zipfile.ZipFile(zip_file_path, 'r') as zip_ref:\n",
    "        zip_ref.extractall(extract_to_folder)\n",
    "        print(f\"Files extracted to: {extract_to_folder}\")\n",
    "\n",
    "zip_file_path = './chatgpt-export.zip'  \n",
    "extract_to_folder = './extracted_files'  \n",
    "\n",
    "extract_zip_file(zip_file_path, extract_to_folder)"
   ]
  },
  {
   "cell_type": "code",
   "execution_count": 8,
   "metadata": {},
   "outputs": [
    {
     "name": "stdout",
     "output_type": "stream",
     "text": [
      "Chat 'Cover Letter Template' already exists in the database.\n",
      "Chat 'Selenium Element Locators' already exists in the database.\n"
     ]
    },
    {
     "name": "stderr",
     "output_type": "stream",
     "text": [
      "C:\\Users\\RM\\AppData\\Local\\Temp\\ipykernel_9880\\2355395931.py:7: MovedIn20Warning: The ``declarative_base()`` function is now available as sqlalchemy.orm.declarative_base(). (deprecated since: 2.0) (Background on SQLAlchemy 2.0 at: https://sqlalche.me/e/b8d9)\n",
      "  Base = declarative_base()\n"
     ]
    }
   ],
   "source": [
    "import os\n",
    "import json\n",
    "from sqlalchemy import create_engine, Column, Integer, String, Boolean\n",
    "from sqlalchemy.ext.declarative import declarative_base\n",
    "from sqlalchemy.orm import sessionmaker\n",
    "\n",
    "Base = declarative_base()\n",
    "\n",
    "class Chat(Base):\n",
    "    __tablename__ = 'chats'\n",
    "    id = Column(Integer, primary_key=True, autoincrement=True)\n",
    "    title = Column(String, unique=True)\n",
    "    is_saved = Column(Boolean, default=False)\n",
    "\n",
    "def setup_database(db_path='sqlite:///chats.db'):\n",
    "   \n",
    "    engine = create_engine(db_path)\n",
    "    Base.metadata.create_all(engine)\n",
    "    Session = sessionmaker(bind=engine)\n",
    "    return Session()\n",
    "\n",
    "def read_and_save_chat(json_data, session, save_folder):\n",
    "    \n",
    "    chat_id = json_data.get('id')\n",
    "    title = json_data.get('title')\n",
    "    existing_chat = session.query(Chat).filter_by(title=title).first()\n",
    "    \n",
    "    if existing_chat:\n",
    "        print(f\"Chat '{title}' already exists in the database.\")\n",
    "        return\n",
    "    file_path = os.path.join(save_folder, f\"{chat_id}.json\")\n",
    "    with open(file_path, 'w') as file:\n",
    "        json.dump(json_data, file)\n",
    "    new_chat = Chat(title=title, is_saved=True)\n",
    "    session.add(new_chat)\n",
    "    session.commit()\n",
    "    print(f\"Chat '{title}' saved successfully.\")\n",
    "\n",
    "def process_chat_files(folder_path, save_folder, session):\n",
    "    if not os.path.exists(save_folder):\n",
    "        os.makedirs(save_folder)\n",
    "    \n",
    "    for file_name in os.listdir(folder_path):\n",
    "        if file_name.endswith('.json'):\n",
    "            file_path = os.path.join(folder_path, file_name)\n",
    "            with open(file_path, 'r') as file:\n",
    "                json_data = json.load(file)\n",
    "                \n",
    "                read_and_save_chat(json_data, session, save_folder)\n",
    "\n",
    "if __name__ == \"__main__\":\n",
    "    session = setup_database()\n",
    "    \n",
    "    folder_path = './extracted_files' \n",
    "    save_folder = './extraced_files' \n",
    "    \n",
    "\n",
    "    process_chat_files(folder_path, save_folder, session)\n"
   ]
  },
  {
   "cell_type": "code",
   "execution_count": 5,
   "metadata": {},
   "outputs": [
    {
     "name": "stdout",
     "output_type": "stream",
     "text": [
      "ID: 1, Title: Cover Letter Template, Is Saved: True\n",
      "ID: 2, Title: Selenium Element Locators, Is Saved: True\n"
     ]
    },
    {
     "name": "stderr",
     "output_type": "stream",
     "text": [
      "C:\\Users\\RM\\AppData\\Local\\Temp\\ipykernel_9880\\549670914.py:6: MovedIn20Warning: The ``declarative_base()`` function is now available as sqlalchemy.orm.declarative_base(). (deprecated since: 2.0) (Background on SQLAlchemy 2.0 at: https://sqlalche.me/e/b8d9)\n",
      "  Base = declarative_base()\n"
     ]
    }
   ],
   "source": [
    "from sqlalchemy import create_engine\n",
    "from sqlalchemy.orm import sessionmaker\n",
    "from sqlalchemy.ext.declarative import declarative_base\n",
    "\n",
    "Base = declarative_base()\n",
    "\n",
    "class Chat(Base):\n",
    "    __tablename__ = 'chats'\n",
    "    id = Column(Integer, primary_key=True, autoincrement=True)\n",
    "    title = Column(String, unique=True)\n",
    "    is_saved = Column(Boolean, default=False)\n",
    "\n",
    "def setup_database(db_path='sqlite:///chats.db'):\n",
    "    engine = create_engine(db_path)\n",
    "    Base.metadata.create_all(engine)\n",
    "    Session = sessionmaker(bind=engine)\n",
    "    return Session()\n",
    "\n",
    "session = setup_database()\n",
    "\n",
    "def view_chats_table(session, db_path='sqlite:///chats.db'):\n",
    "    chats = session.query(Chat).all()\n",
    "    for chat in chats:\n",
    "        print(f\"ID: {chat.id}, Title: {chat.title}, Is Saved: {chat.is_saved}\")\n",
    "\n",
    "view_chats_table(session)\n"
   ]
  }
 ],
 "metadata": {
  "kernelspec": {
   "display_name": "Python 3",
   "language": "python",
   "name": "python3"
  },
  "language_info": {
   "codemirror_mode": {
    "name": "ipython",
    "version": 3
   },
   "file_extension": ".py",
   "mimetype": "text/x-python",
   "name": "python",
   "nbconvert_exporter": "python",
   "pygments_lexer": "ipython3",
   "version": "3.12.5"
  }
 },
 "nbformat": 4,
 "nbformat_minor": 2
}
